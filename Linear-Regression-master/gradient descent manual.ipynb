{
 "cells": [
  {
   "cell_type": "code",
   "execution_count": null,
   "metadata": {},
   "outputs": [],
   "source": [
    "import math\n",
    "import pandas as pd\n",
    "import numpy as np\n",
    "import matplotlib.pyplot as plt"
   ]
  },
  {
   "cell_type": "code",
   "execution_count": null,
   "metadata": {},
   "outputs": [],
   "source": [
    "df = pd.read_csv('/home/kushal/Downloads/ML dataset/Salary_Data.csv')\n",
    "df"
   ]
  },
  {
   "cell_type": "code",
   "execution_count": null,
   "metadata": {},
   "outputs": [],
   "source": [
    "# Selecting X and Y from the dataset\n",
    "x = df['YearsExperience']\n",
    "y = df['Salary']"
   ]
  },
  {
   "cell_type": "code",
   "execution_count": null,
   "metadata": {},
   "outputs": [],
   "source": [
    "# Data Pre-processing\n",
    "\n",
    "x = x/df['YearsExperience'].max()\n",
    "y = y/df['Salary'].max()"
   ]
  },
  {
   "cell_type": "code",
   "execution_count": null,
   "metadata": {},
   "outputs": [],
   "source": [
    "def grd(x,y):\n",
    "    m=b=0     # Intialize slope M and Y intercept B to 0\n",
    "    it = 0   \n",
    "    lr = 0.2    #Learning Rate Alpha\n",
    "    n = len(x)        #Number of training examples        \n",
    "    while it<100 :\n",
    "        y_p = m*x + b  #Y_P \n",
    "        cost = (1/n) * sum([val**2 for val in (y-y_p)])  #Loss or Cost function\n",
    "        md = -(2/n)*sum(x*(y-y_p))     #Partial Derivative of cost with respect to M\n",
    "        bd = -(2/n)*sum(y-y_p)        #Partial Derivative of cost with respect to B\n",
    "        m = m - lr * md          # Update value of M\n",
    "        b = b - lr * bd          # Update value of B\n",
    "        it = it + 1             \n",
    "#         print(\"m {}, b {}, cost {} iteration {}\".format(m,b,cost,it))\n",
    "    plt.plot(x,y_p,color='blue')\n",
    "        "
   ]
  },
  {
   "cell_type": "code",
   "execution_count": null,
   "metadata": {},
   "outputs": [],
   "source": [
    "grd(x,y)\n",
    "plt.scatter(x,y,color='red')"
   ]
  },
  {
   "cell_type": "code",
   "execution_count": null,
   "metadata": {},
   "outputs": [],
   "source": []
  }
 ],
 "metadata": {
  "kernelspec": {
   "display_name": "Python 3",
   "language": "python",
   "name": "python3"
  },
  "language_info": {
   "codemirror_mode": {
    "name": "ipython",
    "version": 3
   },
   "file_extension": ".py",
   "mimetype": "text/x-python",
   "name": "python",
   "nbconvert_exporter": "python",
   "pygments_lexer": "ipython3",
   "version": "3.6.8"
  }
 },
 "nbformat": 4,
 "nbformat_minor": 2
}
